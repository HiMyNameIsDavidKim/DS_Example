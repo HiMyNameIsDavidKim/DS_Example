{
 "cells": [
  {
   "cell_type": "markdown",
   "metadata": {},
   "source": [
    "### 0. Library & LINK Loading"
   ]
  },
  {
   "cell_type": "code",
   "execution_count": 10,
   "metadata": {},
   "outputs": [
    {
     "data": {
      "text/plain": "'https://n.news.naver.com/article/081/0003373025?ntype=RANKING'"
     },
     "execution_count": 10,
     "metadata": {},
     "output_type": "execute_result"
    }
   ],
   "source": [
    "import requests\n",
    "from bs4 import BeautifulSoup\n",
    "import re\n",
    "import pandas as pd\n",
    "from datetime import datetime, timedelta\n",
    "import time\n",
    "from tqdm import tqdm\n",
    "tqdm.pandas()\n",
    "links = pd.read_csv('./sample_link.csv')\n",
    "links['links'][0]"
   ]
  },
  {
   "cell_type": "markdown",
   "metadata": {},
   "source": [
    "### 1. Function Definition"
   ]
  },
  {
   "cell_type": "code",
   "execution_count": 11,
   "metadata": {},
   "outputs": [],
   "source": [
    "def content_crawl(u):\n",
    "    headers = {'user-agent' : 'Mozilla/5.0 (Windows NT 6.1) AppleWebKit/537.36 (KHTML, like Gecko) Chrome/41.0.2228.0 Safari/537.36'}\n",
    "    try:\n",
    "        rs = requests.get(u, headers=headers)\n",
    "    except:\n",
    "        print('RETRY-TIME ERROR!')\n",
    "        time.sleep(3)\n",
    "        rs = requests.get(u, headers=headers)\n",
    "    if rs.status_code != 200:\n",
    "        print('CONTENT REQUEST FAILED! : ', u)\n",
    "        return \"REQUEST_ERROR\"\n",
    "    rs.encoding = 'UTF-8'\n",
    "    soup = BeautifulSoup(rs.text, 'html.parser')\n",
    "    raw_txt = soup.select_one('#newsct_article')\n",
    "    if raw_txt is not None:\n",
    "        for i in raw_txt.find_all('span'):\n",
    "            i.decompose()\n",
    "        raw_txt = raw_txt.text\n",
    "        #e-mail/기자 제거\n",
    "        pt = '([a-zA-Z0-9_.+-]+@[a-zA-Z0-9-]+\\.[a-zA-Z0-9-.]+)'\n",
    "        raw_txt = re.sub(pattern=pt, repl='', string=raw_txt)\n",
    "        raw_txt = raw_txt.replace('기자', '')\n",
    "        raw_txt = raw_txt.strip()\n",
    "        return raw_txt\n",
    "    else:\n",
    "        return \"CONTENT_CRAWL_ERROR\""
   ]
  },
  {
   "cell_type": "code",
   "execution_count": 12,
   "metadata": {},
   "outputs": [
    {
     "data": {
      "text/plain": "'인류의 무분별한 지하수 사용으로 지구 자전축에 변화가 생겼다는 국내 연구가 미국 주요 언론에 보도되는 등 국제적인 조명을 받고 있다.뉴욕타임스(NYT)는 28일(현지시간) “지구 자전축에 문제가 생겼다. 답은 우리와 관련이 있다”는 제목으로 서울대 지구과학교육과 서기원 교수 연구팀의 분석을 소개했다. 1993년부터 2010년 사이 80㎝ 정도의 자전축 이동이 있었고, 다른 그 어떤 요인보다 지하수 고갈이 자전축 변화에 가장 큰 영향을 줬다는 내용의 연구다.CNN방송은 “인간이 너무 많은 지하수를 퍼올려 지축이 이동했다”는 제하의 기사로 논문의 골자를 소개했고, 워싱턴포스트(WP)도 “인간은 지구의 기울기를 바꿀 만큼 많은 지하수를 사용했다”는 제목의 기사를 보도했다.서 교수의 논문은 지난 15일 학술지 ‘지구물리연구레터(Geophysical Research Letter)’를 통해 발표됐다.연구팀은 지하수 고갈과 해수면 상승, 지구 자전축에 밀접한 관계가 있다고 설명했다.연구팀에 따르면 인류가 1993부터 2010년까지 퍼 올린 지하수는 지하수 약 2조 1500t이다. 이로 인해 해수면이 약 6㎜ 상승했다.지구에 존재하는 물 전체의 양은 변하지 않기 때문에, 지하수 사용으로 육지의 물이 사라지면 그만큼 바닷물이 늘어나 해수면이 상승한다. 지구의 물질량 분포가 바뀌면 지구 자전축도 이동한다.서울대 연구팀은 지하수 효과를 반영했을 때 자전축 변화의 예측값과 관측값이 오차 범위 내에서 일치했다고 지적했다. 자전축 변화 분석을 통해 지하수 고갈이 해수면 상승을 유발한다는 관측적 증거를 확보한 셈이다.연구팀은 많은 양의 지하수가 사용되고 있는 인도 북서부와 미국 서부 지역에서 먼바다의 해수면이 상승했다는 점을 지적했다. NYT는 “캘리포니아 서부 밸리 지역 지하수 개발에 따른 위험은 오래전부터 지적됐다”며 “가뭄이 잦아지면서 지하수를 뽑아 쓰기만 하고 빈 곳을 채우지 않아, 지반 침하로 인한 주택과 인프라 피해가 우려될 정도였다”고 전했다.CNN은 “지하수 사용은 단순히 귀중한 자원을 고갈시키는 데 그치지 않는다”며 “이번 연구 결과는 지하수 사용이 의도하지 않은 전 지구적 결과를 초래한다는 점을 보여준다”고 연구의 의미를 설명했다.'"
     },
     "execution_count": 12,
     "metadata": {},
     "output_type": "execute_result"
    }
   ],
   "source": [
    "content_crawl(links['links'][0])"
   ]
  },
  {
   "cell_type": "code",
   "execution_count": 13,
   "outputs": [
    {
     "data": {
      "text/plain": "                                            title  \\\n0            “지하수 끌어쓴 인류, 자전축 흔들었다”…서울대 연구에 외신 주목   \n1           마돈나, 자택서 의식 잃은 채 발견… 박테리아 감염에 중환자실 입원   \n2                 [속보] 차이콥스키 콩쿠르 바이올린·첼로·성악 우승 석권   \n3               전주 명물 ‘당근김밥’ 영업 종료 소식에 전국서 긴 줄 행렬   \n4               ‘동급생 성폭행 추락사’ 가해 남학생 2심서도 무기징역 구형   \n5                     바디워시에 몰카 숨겨 육아도우미 찍은 30대 아빠   \n6                      우승자가 3명… 차이콥스키 콩쿠르 휩쓴 K클래식   \n7        “명품백에 액체, 700만원 물어내” 알바생에 ‘전액 배상’ 요구한 손님   \n8                 방심위에 ‘황의조 사생활 영상’ 민원 쇄도…삭제 등 조치   \n9              11번째 한국 온 톰 아저씨… “스턴트 찍을 땐 저도 겁나요”   \n10          상가건물서 숨진 채 발견된 변호사…‘이태원 살인사건’ 담당 검사였다   \n11             ‘계모 학대’로 숨진 인천 초등생 일기장엔 자책, 자책, 자책   \n12          택시비 안 낸 여성, 경찰 앞 ‘수상한 행동’…경찰은 마약 의심했다   \n13     ‘공군’이 프리고진 반란 도왔다? 하루만에 1000㎞ 진격한 비결 [핫이슈]   \n14                    “없어서 못 팔아요”…몸값 10배로 뛴 매운 그맛   \n15            방콕 공항 무빙 워크에 끼여 왼쪽 다리 잘라낸 태국 57세 여성   \n16               익산 9자녀 가족, 32평 아파트 간다… 10년 무상 임대   \n17                  ‘여객기 비상문 난동’ 10대, 필로폰 투약 상태였다   \n18  [핫이슈] “이놈의 인기”…‘잠적설’ 푸틴, 쿠데타 후 첫 외출에 신났나 (영상)   \n19               “제발 그만 좀 베껴” 삼성디스플레이, 中 BOE 또 제소   \n\n                                                links  \n0   https://n.news.naver.com/article/081/000337302...  \n1   https://n.news.naver.com/article/081/000337277...  \n2   https://n.news.naver.com/article/081/000337313...  \n3   https://n.news.naver.com/article/081/000337324...  \n4   https://n.news.naver.com/article/081/000337313...  \n5   https://n.news.naver.com/article/081/000337323...  \n6   https://n.news.naver.com/article/081/000337321...  \n7   https://n.news.naver.com/article/081/000337335...  \n8   https://n.news.naver.com/article/081/000337331...  \n9   https://n.news.naver.com/article/081/000337310...  \n10  https://n.news.naver.com/article/081/000337302...  \n11  https://n.news.naver.com/article/081/000337332...  \n12  https://n.news.naver.com/article/081/000337302...  \n13  https://n.news.naver.com/article/081/000337333...  \n14  https://n.news.naver.com/article/081/000337333...  \n15  https://n.news.naver.com/article/081/000337336...  \n16  https://n.news.naver.com/article/081/000337336...  \n17  https://n.news.naver.com/article/081/000337313...  \n18  https://n.news.naver.com/article/081/000337300...  \n19  https://n.news.naver.com/article/081/000337330...  ",
      "text/html": "<div>\n<style scoped>\n    .dataframe tbody tr th:only-of-type {\n        vertical-align: middle;\n    }\n\n    .dataframe tbody tr th {\n        vertical-align: top;\n    }\n\n    .dataframe thead th {\n        text-align: right;\n    }\n</style>\n<table border=\"1\" class=\"dataframe\">\n  <thead>\n    <tr style=\"text-align: right;\">\n      <th></th>\n      <th>title</th>\n      <th>links</th>\n    </tr>\n  </thead>\n  <tbody>\n    <tr>\n      <th>0</th>\n      <td>“지하수 끌어쓴 인류, 자전축 흔들었다”…서울대 연구에 외신 주목</td>\n      <td>https://n.news.naver.com/article/081/000337302...</td>\n    </tr>\n    <tr>\n      <th>1</th>\n      <td>마돈나, 자택서 의식 잃은 채 발견… 박테리아 감염에 중환자실 입원</td>\n      <td>https://n.news.naver.com/article/081/000337277...</td>\n    </tr>\n    <tr>\n      <th>2</th>\n      <td>[속보] 차이콥스키 콩쿠르 바이올린·첼로·성악 우승 석권</td>\n      <td>https://n.news.naver.com/article/081/000337313...</td>\n    </tr>\n    <tr>\n      <th>3</th>\n      <td>전주 명물 ‘당근김밥’ 영업 종료 소식에 전국서 긴 줄 행렬</td>\n      <td>https://n.news.naver.com/article/081/000337324...</td>\n    </tr>\n    <tr>\n      <th>4</th>\n      <td>‘동급생 성폭행 추락사’ 가해 남학생 2심서도 무기징역 구형</td>\n      <td>https://n.news.naver.com/article/081/000337313...</td>\n    </tr>\n    <tr>\n      <th>5</th>\n      <td>바디워시에 몰카 숨겨 육아도우미 찍은 30대 아빠</td>\n      <td>https://n.news.naver.com/article/081/000337323...</td>\n    </tr>\n    <tr>\n      <th>6</th>\n      <td>우승자가 3명… 차이콥스키 콩쿠르 휩쓴 K클래식</td>\n      <td>https://n.news.naver.com/article/081/000337321...</td>\n    </tr>\n    <tr>\n      <th>7</th>\n      <td>“명품백에 액체, 700만원 물어내” 알바생에 ‘전액 배상’ 요구한 손님</td>\n      <td>https://n.news.naver.com/article/081/000337335...</td>\n    </tr>\n    <tr>\n      <th>8</th>\n      <td>방심위에 ‘황의조 사생활 영상’ 민원 쇄도…삭제 등 조치</td>\n      <td>https://n.news.naver.com/article/081/000337331...</td>\n    </tr>\n    <tr>\n      <th>9</th>\n      <td>11번째 한국 온 톰 아저씨… “스턴트 찍을 땐 저도 겁나요”</td>\n      <td>https://n.news.naver.com/article/081/000337310...</td>\n    </tr>\n    <tr>\n      <th>10</th>\n      <td>상가건물서 숨진 채 발견된 변호사…‘이태원 살인사건’ 담당 검사였다</td>\n      <td>https://n.news.naver.com/article/081/000337302...</td>\n    </tr>\n    <tr>\n      <th>11</th>\n      <td>‘계모 학대’로 숨진 인천 초등생 일기장엔 자책, 자책, 자책</td>\n      <td>https://n.news.naver.com/article/081/000337332...</td>\n    </tr>\n    <tr>\n      <th>12</th>\n      <td>택시비 안 낸 여성, 경찰 앞 ‘수상한 행동’…경찰은 마약 의심했다</td>\n      <td>https://n.news.naver.com/article/081/000337302...</td>\n    </tr>\n    <tr>\n      <th>13</th>\n      <td>‘공군’이 프리고진 반란 도왔다? 하루만에 1000㎞ 진격한 비결 [핫이슈]</td>\n      <td>https://n.news.naver.com/article/081/000337333...</td>\n    </tr>\n    <tr>\n      <th>14</th>\n      <td>“없어서 못 팔아요”…몸값 10배로 뛴 매운 그맛</td>\n      <td>https://n.news.naver.com/article/081/000337333...</td>\n    </tr>\n    <tr>\n      <th>15</th>\n      <td>방콕 공항 무빙 워크에 끼여 왼쪽 다리 잘라낸 태국 57세 여성</td>\n      <td>https://n.news.naver.com/article/081/000337336...</td>\n    </tr>\n    <tr>\n      <th>16</th>\n      <td>익산 9자녀 가족, 32평 아파트 간다… 10년 무상 임대</td>\n      <td>https://n.news.naver.com/article/081/000337336...</td>\n    </tr>\n    <tr>\n      <th>17</th>\n      <td>‘여객기 비상문 난동’ 10대, 필로폰 투약 상태였다</td>\n      <td>https://n.news.naver.com/article/081/000337313...</td>\n    </tr>\n    <tr>\n      <th>18</th>\n      <td>[핫이슈] “이놈의 인기”…‘잠적설’ 푸틴, 쿠데타 후 첫 외출에 신났나 (영상)</td>\n      <td>https://n.news.naver.com/article/081/000337300...</td>\n    </tr>\n    <tr>\n      <th>19</th>\n      <td>“제발 그만 좀 베껴” 삼성디스플레이, 中 BOE 또 제소</td>\n      <td>https://n.news.naver.com/article/081/000337330...</td>\n    </tr>\n  </tbody>\n</table>\n</div>"
     },
     "execution_count": 13,
     "metadata": {},
     "output_type": "execute_result"
    }
   ],
   "source": [
    "links"
   ],
   "metadata": {
    "collapsed": false
   }
  },
  {
   "cell_type": "code",
   "execution_count": 14,
   "metadata": {},
   "outputs": [
    {
     "name": "stderr",
     "output_type": "stream",
     "text": [
      "100%|██████████| 20/20 [00:09<00:00,  2.10it/s]\n"
     ]
    }
   ],
   "source": [
    "links['full_ct'] = links['links'].progress_apply(content_crawl)"
   ]
  },
  {
   "cell_type": "code",
   "execution_count": 15,
   "outputs": [
    {
     "data": {
      "text/plain": "                                            title  \\\n0            “지하수 끌어쓴 인류, 자전축 흔들었다”…서울대 연구에 외신 주목   \n1           마돈나, 자택서 의식 잃은 채 발견… 박테리아 감염에 중환자실 입원   \n2                 [속보] 차이콥스키 콩쿠르 바이올린·첼로·성악 우승 석권   \n3               전주 명물 ‘당근김밥’ 영업 종료 소식에 전국서 긴 줄 행렬   \n4               ‘동급생 성폭행 추락사’ 가해 남학생 2심서도 무기징역 구형   \n5                     바디워시에 몰카 숨겨 육아도우미 찍은 30대 아빠   \n6                      우승자가 3명… 차이콥스키 콩쿠르 휩쓴 K클래식   \n7        “명품백에 액체, 700만원 물어내” 알바생에 ‘전액 배상’ 요구한 손님   \n8                 방심위에 ‘황의조 사생활 영상’ 민원 쇄도…삭제 등 조치   \n9              11번째 한국 온 톰 아저씨… “스턴트 찍을 땐 저도 겁나요”   \n10          상가건물서 숨진 채 발견된 변호사…‘이태원 살인사건’ 담당 검사였다   \n11             ‘계모 학대’로 숨진 인천 초등생 일기장엔 자책, 자책, 자책   \n12          택시비 안 낸 여성, 경찰 앞 ‘수상한 행동’…경찰은 마약 의심했다   \n13     ‘공군’이 프리고진 반란 도왔다? 하루만에 1000㎞ 진격한 비결 [핫이슈]   \n14                    “없어서 못 팔아요”…몸값 10배로 뛴 매운 그맛   \n15            방콕 공항 무빙 워크에 끼여 왼쪽 다리 잘라낸 태국 57세 여성   \n16               익산 9자녀 가족, 32평 아파트 간다… 10년 무상 임대   \n17                  ‘여객기 비상문 난동’ 10대, 필로폰 투약 상태였다   \n18  [핫이슈] “이놈의 인기”…‘잠적설’ 푸틴, 쿠데타 후 첫 외출에 신났나 (영상)   \n19               “제발 그만 좀 베껴” 삼성디스플레이, 中 BOE 또 제소   \n\n                                                links  \\\n0   https://n.news.naver.com/article/081/000337302...   \n1   https://n.news.naver.com/article/081/000337277...   \n2   https://n.news.naver.com/article/081/000337313...   \n3   https://n.news.naver.com/article/081/000337324...   \n4   https://n.news.naver.com/article/081/000337313...   \n5   https://n.news.naver.com/article/081/000337323...   \n6   https://n.news.naver.com/article/081/000337321...   \n7   https://n.news.naver.com/article/081/000337335...   \n8   https://n.news.naver.com/article/081/000337331...   \n9   https://n.news.naver.com/article/081/000337310...   \n10  https://n.news.naver.com/article/081/000337302...   \n11  https://n.news.naver.com/article/081/000337332...   \n12  https://n.news.naver.com/article/081/000337302...   \n13  https://n.news.naver.com/article/081/000337333...   \n14  https://n.news.naver.com/article/081/000337333...   \n15  https://n.news.naver.com/article/081/000337336...   \n16  https://n.news.naver.com/article/081/000337336...   \n17  https://n.news.naver.com/article/081/000337313...   \n18  https://n.news.naver.com/article/081/000337300...   \n19  https://n.news.naver.com/article/081/000337330...   \n\n                                              full_ct  \n0   인류의 무분별한 지하수 사용으로 지구 자전축에 변화가 생겼다는 국내 연구가 미국 주...  \n1   다음달 시작 예정이던 월드투어 연기미국 팝스타 마돈나(64)가 박테리아 감염으로 중...  \n2   차이콥스키 콩쿠르에서 바이올리니스트 김계희와 첼리스트 이영은, 테너 손지훈이 우승을...  \n3   40여년 전 사우나 돌며 행상…방송 후 전주 명물로오선모씨, 허리 협착층으로 이달까...  \n4   1심은 살인 고의성 없다 보고 징역 20년인하대 캠퍼스에서 또래 동급생을 성폭행하고...  \n5   화장실 세제 안에 소형 카메라를 설치해 육아도우미를 몰래 촬영한 아이 아버지가 경찰...  \n6   차이콥스키 국제 콩쿠르에서 한국인 음악가들이 6개 중 3개 부문을 휩쓸며 K클래식의...  \n7   한 음식점에서 일하던 아르바이트생이 명품 가방에 액체를 튀게 했다는 이유로 손님으로...  \n8   방송통신심의위원회에 축구 국가대표 황의조(31)의 사적인 생활이 담긴 영상 관련 민...  \n9   ‘미션 임파서블’ 새달 개봉“제가 겁이 없는 게 아닙니다. 겁이 나도 괜찮다고 생각...  \n10  1997년 4월 발생한 ‘이태원 살인사건’의 담당 검사였던 변호사가 29일 숨진 채...  \n11  “어머니께서 깨워주셨는데 정신 안 차려…죄송하다”아동 살해 혐의 재판서 공개…학대당...  \n12  택시비 요금 문제로 경찰에 인계된 여성이 마약 양성 반응을 보여 현장에서 체포됐다....  \n13  [서울신문 나우뉴스]러시아뿐만 아니라 전 세계를 뒤흔든 러시아 민간용병기업 바그너 ...  \n14  美 가뭄에 기후 변화 직격탄…병당 9만원에 팔기도미국에서 가장 많이 팔리는 소스 중...  \n15  태국의 57세 여성이 방콕 돈 므앙 국제공항의 무빙 워크(일명 트레블레이터)를 걸어...  \n16  전북 익산의 ‘9자녀 가족’이 48㎡(15평) 임대주택을 떠나 84㎡(32평) 규모...  \n17  “세부 호텔서 현지인 6명과 투약”비행 중 여객기에서 비상문을 강제로 열겠다며 소동...  \n18  [서울신문 나우뉴스]러시아 민간용병기업 바그너 그룹의 수장 예브게니 프리고진의 ‘1...  \n19  삼성디스플레이 “BOE, 아이폰12 짝퉁 패널 도용”BOE 중국서 소송 ‘적반하장’...  ",
      "text/html": "<div>\n<style scoped>\n    .dataframe tbody tr th:only-of-type {\n        vertical-align: middle;\n    }\n\n    .dataframe tbody tr th {\n        vertical-align: top;\n    }\n\n    .dataframe thead th {\n        text-align: right;\n    }\n</style>\n<table border=\"1\" class=\"dataframe\">\n  <thead>\n    <tr style=\"text-align: right;\">\n      <th></th>\n      <th>title</th>\n      <th>links</th>\n      <th>full_ct</th>\n    </tr>\n  </thead>\n  <tbody>\n    <tr>\n      <th>0</th>\n      <td>“지하수 끌어쓴 인류, 자전축 흔들었다”…서울대 연구에 외신 주목</td>\n      <td>https://n.news.naver.com/article/081/000337302...</td>\n      <td>인류의 무분별한 지하수 사용으로 지구 자전축에 변화가 생겼다는 국내 연구가 미국 주...</td>\n    </tr>\n    <tr>\n      <th>1</th>\n      <td>마돈나, 자택서 의식 잃은 채 발견… 박테리아 감염에 중환자실 입원</td>\n      <td>https://n.news.naver.com/article/081/000337277...</td>\n      <td>다음달 시작 예정이던 월드투어 연기미국 팝스타 마돈나(64)가 박테리아 감염으로 중...</td>\n    </tr>\n    <tr>\n      <th>2</th>\n      <td>[속보] 차이콥스키 콩쿠르 바이올린·첼로·성악 우승 석권</td>\n      <td>https://n.news.naver.com/article/081/000337313...</td>\n      <td>차이콥스키 콩쿠르에서 바이올리니스트 김계희와 첼리스트 이영은, 테너 손지훈이 우승을...</td>\n    </tr>\n    <tr>\n      <th>3</th>\n      <td>전주 명물 ‘당근김밥’ 영업 종료 소식에 전국서 긴 줄 행렬</td>\n      <td>https://n.news.naver.com/article/081/000337324...</td>\n      <td>40여년 전 사우나 돌며 행상…방송 후 전주 명물로오선모씨, 허리 협착층으로 이달까...</td>\n    </tr>\n    <tr>\n      <th>4</th>\n      <td>‘동급생 성폭행 추락사’ 가해 남학생 2심서도 무기징역 구형</td>\n      <td>https://n.news.naver.com/article/081/000337313...</td>\n      <td>1심은 살인 고의성 없다 보고 징역 20년인하대 캠퍼스에서 또래 동급생을 성폭행하고...</td>\n    </tr>\n    <tr>\n      <th>5</th>\n      <td>바디워시에 몰카 숨겨 육아도우미 찍은 30대 아빠</td>\n      <td>https://n.news.naver.com/article/081/000337323...</td>\n      <td>화장실 세제 안에 소형 카메라를 설치해 육아도우미를 몰래 촬영한 아이 아버지가 경찰...</td>\n    </tr>\n    <tr>\n      <th>6</th>\n      <td>우승자가 3명… 차이콥스키 콩쿠르 휩쓴 K클래식</td>\n      <td>https://n.news.naver.com/article/081/000337321...</td>\n      <td>차이콥스키 국제 콩쿠르에서 한국인 음악가들이 6개 중 3개 부문을 휩쓸며 K클래식의...</td>\n    </tr>\n    <tr>\n      <th>7</th>\n      <td>“명품백에 액체, 700만원 물어내” 알바생에 ‘전액 배상’ 요구한 손님</td>\n      <td>https://n.news.naver.com/article/081/000337335...</td>\n      <td>한 음식점에서 일하던 아르바이트생이 명품 가방에 액체를 튀게 했다는 이유로 손님으로...</td>\n    </tr>\n    <tr>\n      <th>8</th>\n      <td>방심위에 ‘황의조 사생활 영상’ 민원 쇄도…삭제 등 조치</td>\n      <td>https://n.news.naver.com/article/081/000337331...</td>\n      <td>방송통신심의위원회에 축구 국가대표 황의조(31)의 사적인 생활이 담긴 영상 관련 민...</td>\n    </tr>\n    <tr>\n      <th>9</th>\n      <td>11번째 한국 온 톰 아저씨… “스턴트 찍을 땐 저도 겁나요”</td>\n      <td>https://n.news.naver.com/article/081/000337310...</td>\n      <td>‘미션 임파서블’ 새달 개봉“제가 겁이 없는 게 아닙니다. 겁이 나도 괜찮다고 생각...</td>\n    </tr>\n    <tr>\n      <th>10</th>\n      <td>상가건물서 숨진 채 발견된 변호사…‘이태원 살인사건’ 담당 검사였다</td>\n      <td>https://n.news.naver.com/article/081/000337302...</td>\n      <td>1997년 4월 발생한 ‘이태원 살인사건’의 담당 검사였던 변호사가 29일 숨진 채...</td>\n    </tr>\n    <tr>\n      <th>11</th>\n      <td>‘계모 학대’로 숨진 인천 초등생 일기장엔 자책, 자책, 자책</td>\n      <td>https://n.news.naver.com/article/081/000337332...</td>\n      <td>“어머니께서 깨워주셨는데 정신 안 차려…죄송하다”아동 살해 혐의 재판서 공개…학대당...</td>\n    </tr>\n    <tr>\n      <th>12</th>\n      <td>택시비 안 낸 여성, 경찰 앞 ‘수상한 행동’…경찰은 마약 의심했다</td>\n      <td>https://n.news.naver.com/article/081/000337302...</td>\n      <td>택시비 요금 문제로 경찰에 인계된 여성이 마약 양성 반응을 보여 현장에서 체포됐다....</td>\n    </tr>\n    <tr>\n      <th>13</th>\n      <td>‘공군’이 프리고진 반란 도왔다? 하루만에 1000㎞ 진격한 비결 [핫이슈]</td>\n      <td>https://n.news.naver.com/article/081/000337333...</td>\n      <td>[서울신문 나우뉴스]러시아뿐만 아니라 전 세계를 뒤흔든 러시아 민간용병기업 바그너 ...</td>\n    </tr>\n    <tr>\n      <th>14</th>\n      <td>“없어서 못 팔아요”…몸값 10배로 뛴 매운 그맛</td>\n      <td>https://n.news.naver.com/article/081/000337333...</td>\n      <td>美 가뭄에 기후 변화 직격탄…병당 9만원에 팔기도미국에서 가장 많이 팔리는 소스 중...</td>\n    </tr>\n    <tr>\n      <th>15</th>\n      <td>방콕 공항 무빙 워크에 끼여 왼쪽 다리 잘라낸 태국 57세 여성</td>\n      <td>https://n.news.naver.com/article/081/000337336...</td>\n      <td>태국의 57세 여성이 방콕 돈 므앙 국제공항의 무빙 워크(일명 트레블레이터)를 걸어...</td>\n    </tr>\n    <tr>\n      <th>16</th>\n      <td>익산 9자녀 가족, 32평 아파트 간다… 10년 무상 임대</td>\n      <td>https://n.news.naver.com/article/081/000337336...</td>\n      <td>전북 익산의 ‘9자녀 가족’이 48㎡(15평) 임대주택을 떠나 84㎡(32평) 규모...</td>\n    </tr>\n    <tr>\n      <th>17</th>\n      <td>‘여객기 비상문 난동’ 10대, 필로폰 투약 상태였다</td>\n      <td>https://n.news.naver.com/article/081/000337313...</td>\n      <td>“세부 호텔서 현지인 6명과 투약”비행 중 여객기에서 비상문을 강제로 열겠다며 소동...</td>\n    </tr>\n    <tr>\n      <th>18</th>\n      <td>[핫이슈] “이놈의 인기”…‘잠적설’ 푸틴, 쿠데타 후 첫 외출에 신났나 (영상)</td>\n      <td>https://n.news.naver.com/article/081/000337300...</td>\n      <td>[서울신문 나우뉴스]러시아 민간용병기업 바그너 그룹의 수장 예브게니 프리고진의 ‘1...</td>\n    </tr>\n    <tr>\n      <th>19</th>\n      <td>“제발 그만 좀 베껴” 삼성디스플레이, 中 BOE 또 제소</td>\n      <td>https://n.news.naver.com/article/081/000337330...</td>\n      <td>삼성디스플레이 “BOE, 아이폰12 짝퉁 패널 도용”BOE 중국서 소송 ‘적반하장’...</td>\n    </tr>\n  </tbody>\n</table>\n</div>"
     },
     "execution_count": 15,
     "metadata": {},
     "output_type": "execute_result"
    }
   ],
   "source": [
    "links"
   ],
   "metadata": {
    "collapsed": false
   }
  },
  {
   "cell_type": "markdown",
   "metadata": {},
   "source": [
    "### 2. 댓글 수 수집"
   ]
  },
  {
   "cell_type": "code",
   "execution_count": 16,
   "metadata": {},
   "outputs": [
    {
     "data": {
      "text/plain": "'https://n.news.naver.com/article/081/0003373025?ntype=RANKING'"
     },
     "execution_count": 16,
     "metadata": {},
     "output_type": "execute_result"
    }
   ],
   "source": [
    "url = links['links'][0]\n",
    "url"
   ]
  },
  {
   "cell_type": "code",
   "execution_count": 17,
   "metadata": {},
   "outputs": [],
   "source": [
    "headers = {'user-agent' : 'Mozilla/5.0 (Windows NT 6.1) AppleWebKit/537.36 (KHTML, like Gecko) Chrome/41.0.2228.0 Safari/537.36'}\n",
    "try:\n",
    "    rs = requests.get(url, headers=headers)\n",
    "except:\n",
    "    print('RETRY-TIME ERROR!')\n",
    "    time.sleep(3)\n",
    "    rs = requests.get(url, headers=headers)\n",
    "if rs.status_code != 200:\n",
    "    print('CONTENT REQUEST FAILED! : ', u)\n",
    "    my_dict = {'txt':'ERROR', 'cc':0}\n",
    "rs.encoding = 'UTF-8'\n",
    "soup = BeautifulSoup(rs.text, 'html.parser')"
   ]
  },
  {
   "cell_type": "code",
   "execution_count": 18,
   "metadata": {},
   "outputs": [
    {
     "data": {
      "text/plain": "'댓글'"
     },
     "execution_count": 18,
     "metadata": {},
     "output_type": "execute_result"
    }
   ],
   "source": [
    "soup.select_one('#comment_count').get_text()"
   ]
  }
 ],
 "metadata": {
  "kernelspec": {
   "display_name": "Python 3 (ipykernel)",
   "language": "python",
   "name": "python3"
  },
  "language_info": {
   "codemirror_mode": {
    "name": "ipython",
    "version": 3
   },
   "file_extension": ".py",
   "mimetype": "text/x-python",
   "name": "python",
   "nbconvert_exporter": "python",
   "pygments_lexer": "ipython3",
   "version": "3.9.15"
  }
 },
 "nbformat": 4,
 "nbformat_minor": 2
}
