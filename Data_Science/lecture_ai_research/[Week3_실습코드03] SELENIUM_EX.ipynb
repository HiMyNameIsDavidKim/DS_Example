{
 "cells": [
  {
   "cell_type": "markdown",
   "metadata": {},
   "source": [
    "### 1. Selenium Basics"
   ]
  },
  {
   "cell_type": "markdown",
   "metadata": {},
   "source": [
    "- 드라이버 로딩"
   ]
  },
  {
   "cell_type": "code",
   "execution_count": 4,
   "metadata": {},
   "outputs": [
    {
     "ename": "ValueError",
     "evalue": "There is no such driver by url https://chromedriver.storage.googleapis.com/116.0.5845/chromedriver_mac_arm64.zip",
     "output_type": "error",
     "traceback": [
      "\u001B[0;31m---------------------------------------------------------------------------\u001B[0m",
      "\u001B[0;31mValueError\u001B[0m                                Traceback (most recent call last)",
      "Cell \u001B[0;32mIn [4], line 5\u001B[0m\n\u001B[1;32m      3\u001B[0m options \u001B[38;5;241m=\u001B[39m webdriver\u001B[38;5;241m.\u001B[39mChromeOptions()\n\u001B[1;32m      4\u001B[0m \u001B[38;5;66;03m# options.add_argument('headless') #웹페이지 띄우지 않기\u001B[39;00m\n\u001B[0;32m----> 5\u001B[0m \u001B[43mChromeDriverManager\u001B[49m\u001B[43m(\u001B[49m\u001B[43m)\u001B[49m\u001B[38;5;241;43m.\u001B[39;49m\u001B[43minstall\u001B[49m\u001B[43m(\u001B[49m\u001B[43m)\u001B[49m\n\u001B[1;32m      6\u001B[0m drive \u001B[38;5;241m=\u001B[39m webdriver\u001B[38;5;241m.\u001B[39mChrome(options\u001B[38;5;241m=\u001B[39moptions)\n",
      "File \u001B[0;32m/opt/anaconda3/envs/venv/lib/python3.9/site-packages/webdriver_manager/chrome.py:39\u001B[0m, in \u001B[0;36mChromeDriverManager.install\u001B[0;34m(self)\u001B[0m\n\u001B[1;32m     38\u001B[0m \u001B[38;5;28;01mdef\u001B[39;00m \u001B[38;5;21minstall\u001B[39m(\u001B[38;5;28mself\u001B[39m) \u001B[38;5;241m-\u001B[39m\u001B[38;5;241m>\u001B[39m \u001B[38;5;28mstr\u001B[39m:\n\u001B[0;32m---> 39\u001B[0m     driver_path \u001B[38;5;241m=\u001B[39m \u001B[38;5;28;43mself\u001B[39;49m\u001B[38;5;241;43m.\u001B[39;49m\u001B[43m_get_driver_path\u001B[49m\u001B[43m(\u001B[49m\u001B[38;5;28;43mself\u001B[39;49m\u001B[38;5;241;43m.\u001B[39;49m\u001B[43mdriver\u001B[49m\u001B[43m)\u001B[49m\n\u001B[1;32m     40\u001B[0m     os\u001B[38;5;241m.\u001B[39mchmod(driver_path, \u001B[38;5;241m0o755\u001B[39m)\n\u001B[1;32m     41\u001B[0m     \u001B[38;5;28;01mreturn\u001B[39;00m driver_path\n",
      "File \u001B[0;32m/opt/anaconda3/envs/venv/lib/python3.9/site-packages/webdriver_manager/core/manager.py:30\u001B[0m, in \u001B[0;36mDriverManager._get_driver_path\u001B[0;34m(self, driver)\u001B[0m\n\u001B[1;32m     27\u001B[0m \u001B[38;5;28;01mif\u001B[39;00m binary_path:\n\u001B[1;32m     28\u001B[0m     \u001B[38;5;28;01mreturn\u001B[39;00m binary_path\n\u001B[0;32m---> 30\u001B[0m file \u001B[38;5;241m=\u001B[39m \u001B[38;5;28;43mself\u001B[39;49m\u001B[38;5;241;43m.\u001B[39;49m\u001B[43m_download_manager\u001B[49m\u001B[38;5;241;43m.\u001B[39;49m\u001B[43mdownload_file\u001B[49m\u001B[43m(\u001B[49m\u001B[43mdriver\u001B[49m\u001B[38;5;241;43m.\u001B[39;49m\u001B[43mget_url\u001B[49m\u001B[43m(\u001B[49m\u001B[43m)\u001B[49m\u001B[43m)\u001B[49m\n\u001B[1;32m     31\u001B[0m binary_path \u001B[38;5;241m=\u001B[39m \u001B[38;5;28mself\u001B[39m\u001B[38;5;241m.\u001B[39mdriver_cache\u001B[38;5;241m.\u001B[39msave_file_to_cache(driver, file)\n\u001B[1;32m     32\u001B[0m \u001B[38;5;28;01mreturn\u001B[39;00m binary_path\n",
      "File \u001B[0;32m/opt/anaconda3/envs/venv/lib/python3.9/site-packages/webdriver_manager/core/download_manager.py:28\u001B[0m, in \u001B[0;36mWDMDownloadManager.download_file\u001B[0;34m(self, url)\u001B[0m\n\u001B[1;32m     26\u001B[0m \u001B[38;5;28;01mdef\u001B[39;00m \u001B[38;5;21mdownload_file\u001B[39m(\u001B[38;5;28mself\u001B[39m, url: \u001B[38;5;28mstr\u001B[39m) \u001B[38;5;241m-\u001B[39m\u001B[38;5;241m>\u001B[39m File:\n\u001B[1;32m     27\u001B[0m     log(\u001B[38;5;124mf\u001B[39m\u001B[38;5;124m\"\u001B[39m\u001B[38;5;124mAbout to download new driver from \u001B[39m\u001B[38;5;132;01m{\u001B[39;00murl\u001B[38;5;132;01m}\u001B[39;00m\u001B[38;5;124m\"\u001B[39m)\n\u001B[0;32m---> 28\u001B[0m     response \u001B[38;5;241m=\u001B[39m \u001B[38;5;28;43mself\u001B[39;49m\u001B[38;5;241;43m.\u001B[39;49m\u001B[43m_http_client\u001B[49m\u001B[38;5;241;43m.\u001B[39;49m\u001B[43mget\u001B[49m\u001B[43m(\u001B[49m\u001B[43murl\u001B[49m\u001B[43m)\u001B[49m\n\u001B[1;32m     29\u001B[0m     \u001B[38;5;28;01mreturn\u001B[39;00m File(response)\n",
      "File \u001B[0;32m/opt/anaconda3/envs/venv/lib/python3.9/site-packages/webdriver_manager/core/http.py:33\u001B[0m, in \u001B[0;36mWDMHttpClient.get\u001B[0;34m(self, url, **kwargs)\u001B[0m\n\u001B[1;32m     31\u001B[0m \u001B[38;5;28;01mdef\u001B[39;00m \u001B[38;5;21mget\u001B[39m(\u001B[38;5;28mself\u001B[39m, url, \u001B[38;5;241m*\u001B[39m\u001B[38;5;241m*\u001B[39mkwargs) \u001B[38;5;241m-\u001B[39m\u001B[38;5;241m>\u001B[39m Response:\n\u001B[1;32m     32\u001B[0m     resp \u001B[38;5;241m=\u001B[39m requests\u001B[38;5;241m.\u001B[39mget(url\u001B[38;5;241m=\u001B[39murl, verify\u001B[38;5;241m=\u001B[39m\u001B[38;5;28mself\u001B[39m\u001B[38;5;241m.\u001B[39m_ssl_verify, stream\u001B[38;5;241m=\u001B[39m\u001B[38;5;28;01mTrue\u001B[39;00m, \u001B[38;5;241m*\u001B[39m\u001B[38;5;241m*\u001B[39mkwargs)\n\u001B[0;32m---> 33\u001B[0m     \u001B[38;5;28;43mself\u001B[39;49m\u001B[38;5;241;43m.\u001B[39;49m\u001B[43mvalidate_response\u001B[49m\u001B[43m(\u001B[49m\u001B[43mresp\u001B[49m\u001B[43m)\u001B[49m\n\u001B[1;32m     34\u001B[0m     \u001B[38;5;28;01mif\u001B[39;00m wdm_progress_bar():\n\u001B[1;32m     35\u001B[0m         show_download_progress(resp)\n",
      "File \u001B[0;32m/opt/anaconda3/envs/venv/lib/python3.9/site-packages/webdriver_manager/core/http.py:16\u001B[0m, in \u001B[0;36mHttpClient.validate_response\u001B[0;34m(resp)\u001B[0m\n\u001B[1;32m     14\u001B[0m status_code \u001B[38;5;241m=\u001B[39m resp\u001B[38;5;241m.\u001B[39mstatus_code\n\u001B[1;32m     15\u001B[0m \u001B[38;5;28;01mif\u001B[39;00m status_code \u001B[38;5;241m==\u001B[39m \u001B[38;5;241m404\u001B[39m:\n\u001B[0;32m---> 16\u001B[0m     \u001B[38;5;28;01mraise\u001B[39;00m \u001B[38;5;167;01mValueError\u001B[39;00m(\u001B[38;5;124mf\u001B[39m\u001B[38;5;124m\"\u001B[39m\u001B[38;5;124mThere is no such driver by url \u001B[39m\u001B[38;5;132;01m{\u001B[39;00mresp\u001B[38;5;241m.\u001B[39murl\u001B[38;5;132;01m}\u001B[39;00m\u001B[38;5;124m\"\u001B[39m)\n\u001B[1;32m     17\u001B[0m \u001B[38;5;28;01melif\u001B[39;00m status_code \u001B[38;5;241m==\u001B[39m \u001B[38;5;241m401\u001B[39m:\n\u001B[1;32m     18\u001B[0m     \u001B[38;5;28;01mraise\u001B[39;00m \u001B[38;5;167;01mValueError\u001B[39;00m(\u001B[38;5;124mf\u001B[39m\u001B[38;5;124m\"\u001B[39m\u001B[38;5;124mAPI Rate limit exceeded. You have to add GH_TOKEN!!!\u001B[39m\u001B[38;5;124m\"\u001B[39m)\n",
      "\u001B[0;31mValueError\u001B[0m: There is no such driver by url https://chromedriver.storage.googleapis.com/116.0.5845/chromedriver_mac_arm64.zip"
     ]
    }
   ],
   "source": [
    "from selenium import webdriver\n",
    "from webdriver_manager.chrome import ChromeDriverManager\n",
    "options = webdriver.ChromeOptions()\n",
    "# options.add_argument('headless') #웹페이지 띄우지 않기\n",
    "ChromeDriverManager().install()\n",
    "drive = webdriver.Chrome(options=options)"
   ]
  },
  {
   "cell_type": "markdown",
   "metadata": {},
   "source": [
    "- 웹 브라우저 테스트 및 사이트 접속"
   ]
  },
  {
   "cell_type": "code",
   "execution_count": null,
   "metadata": {},
   "outputs": [],
   "source": [
    "drive.implicitly_wait(3)\n",
    "drive.get('https://www.naver.com/')"
   ]
  },
  {
   "cell_type": "markdown",
   "metadata": {},
   "source": [
    "- 버튼 클릭"
   ]
  },
  {
   "cell_type": "code",
   "execution_count": null,
   "metadata": {},
   "outputs": [],
   "source": [
    "from selenium.webdriver.common.by import By"
   ]
  },
  {
   "cell_type": "markdown",
   "metadata": {},
   "source": [
    "- By.ID : 태그ID값\n",
    "- By.NAME : 태그 name값\n",
    "- By.XPATH : 태그 경로(XPATH)\n",
    "- By.CLASS_NAME : 태그 클래스명\n",
    "- By.CSS_SELECTOR : CSS선택자"
   ]
  },
  {
   "cell_type": "code",
   "execution_count": null,
   "metadata": {},
   "outputs": [],
   "source": [
    "login_btn1=drive.find_element(By.CSS_SELECTOR, '#account > div > a')\n",
    "login_btn1.click()"
   ]
  },
  {
   "cell_type": "code",
   "execution_count": null,
   "metadata": {},
   "outputs": [],
   "source": [
    "naver_id = drive.find_element(By.ID, 'id')\n",
    "pw = drive.find_element(By.ID, 'pw')"
   ]
  },
  {
   "cell_type": "code",
   "execution_count": null,
   "metadata": {},
   "outputs": [],
   "source": [
    "naver_id.send_keys('ID')\n",
    "pw.send_keys('PW')"
   ]
  },
  {
   "cell_type": "code",
   "execution_count": null,
   "metadata": {},
   "outputs": [],
   "source": [
    "login_btn2=drive.find_element(By.CSS_SELECTOR, '#log\\.login')\n",
    "login_btn2.click()"
   ]
  },
  {
   "cell_type": "code",
   "execution_count": null,
   "metadata": {},
   "outputs": [],
   "source": [
    "drive.quit()"
   ]
  },
  {
   "cell_type": "markdown",
   "metadata": {},
   "source": [
    "### 2. 댓글 수 수집"
   ]
  },
  {
   "cell_type": "code",
   "execution_count": null,
   "metadata": {},
   "outputs": [],
   "source": [
    "drive = webdriver.Chrome(options=options)\n",
    "drive.implicitly_wait(3)\n",
    "drive.get('https://n.news.naver.com/article/081/0003357696?ntype=RANKING')"
   ]
  },
  {
   "cell_type": "markdown",
   "metadata": {},
   "source": [
    "- 현재 페이지를 BeautifulSoup에 전달"
   ]
  },
  {
   "cell_type": "code",
   "execution_count": null,
   "metadata": {},
   "outputs": [],
   "source": [
    "from bs4 import BeautifulSoup\n",
    "import time\n",
    "#time.sleep(1)\n",
    "soup = BeautifulSoup(drive.page_source, 'html.parser')"
   ]
  },
  {
   "cell_type": "code",
   "execution_count": null,
   "metadata": {},
   "outputs": [],
   "source": [
    "soup.select_one('#comment_count').get_text()"
   ]
  },
  {
   "cell_type": "code",
   "execution_count": null,
   "metadata": {},
   "outputs": [],
   "source": [
    "drive.quit()"
   ]
  }
 ],
 "metadata": {
  "kernelspec": {
   "display_name": "Python 3 (ipykernel)",
   "language": "python",
   "name": "python3"
  },
  "language_info": {
   "codemirror_mode": {
    "name": "ipython",
    "version": 3
   },
   "file_extension": ".py",
   "mimetype": "text/x-python",
   "name": "python",
   "nbconvert_exporter": "python",
   "pygments_lexer": "ipython3",
   "version": "3.9.15"
  }
 },
 "nbformat": 4,
 "nbformat_minor": 2
}
