{
 "cells": [
  {
   "cell_type": "code",
   "execution_count": 1,
   "metadata": {},
   "outputs": [
    {
     "name": "stdout",
     "output_type": "stream",
     "text": [
      "Using cuda device\n"
     ]
    }
   ],
   "source": [
    "import pandas as pd\n",
    "import numpy as np\n",
    "import torch\n",
    "from torch import nn\n",
    "from torch.utils.data import DataLoader\n",
    "from torch.utils.data import Dataset\n",
    "import matplotlib.pyplot as plt\n",
    "\n",
    "device = torch.device(\n",
    "    \"cuda\"\n",
    "    if torch.cuda.is_available()\n",
    "    else \"mps\"\n",
    "    if torch.backends.mps.is_available()\n",
    "    else \"cpu\"\n",
    ")\n",
    "print(f\"Using {device} device\")"
   ]
  },
  {
   "attachments": {},
   "cell_type": "markdown",
   "metadata": {},
   "source": [
    "## 1. 데이터 전처리 및 Data Loader 정의"
   ]
  },
  {
   "cell_type": "code",
   "execution_count": 2,
   "metadata": {},
   "outputs": [
    {
     "data": {
      "text/html": [
       "<div>\n",
       "<style scoped>\n",
       "    .dataframe tbody tr th:only-of-type {\n",
       "        vertical-align: middle;\n",
       "    }\n",
       "\n",
       "    .dataframe tbody tr th {\n",
       "        vertical-align: top;\n",
       "    }\n",
       "\n",
       "    .dataframe thead th {\n",
       "        text-align: right;\n",
       "    }\n",
       "</style>\n",
       "<table border=\"1\" class=\"dataframe\">\n",
       "  <thead>\n",
       "    <tr style=\"text-align: right;\">\n",
       "      <th></th>\n",
       "      <th>words</th>\n",
       "      <th>sentiment</th>\n",
       "    </tr>\n",
       "  </thead>\n",
       "  <tbody>\n",
       "    <tr>\n",
       "      <th>0</th>\n",
       "      <td>the;as;you;with;out;themselves;powerful;lets;l...</td>\n",
       "      <td>1</td>\n",
       "    </tr>\n",
       "    <tr>\n",
       "      <th>1</th>\n",
       "      <td>the;thought;solid;thought;senator;do;making;to...</td>\n",
       "      <td>0</td>\n",
       "    </tr>\n",
       "    <tr>\n",
       "      <th>2</th>\n",
       "      <td>the;as;there;in;at;by;br;of;sure;many;br;of;pr...</td>\n",
       "      <td>0</td>\n",
       "    </tr>\n",
       "    <tr>\n",
       "      <th>3</th>\n",
       "      <td>the;of;and;and;they;halfway;of;identity;went;p...</td>\n",
       "      <td>1</td>\n",
       "    </tr>\n",
       "    <tr>\n",
       "      <th>4</th>\n",
       "      <td>the;sure;themes;br;only;acting;i;i;was;favouri...</td>\n",
       "      <td>0</td>\n",
       "    </tr>\n",
       "    <tr>\n",
       "      <th>...</th>\n",
       "      <td>...</td>\n",
       "      <td>...</td>\n",
       "    </tr>\n",
       "    <tr>\n",
       "      <th>24995</th>\n",
       "      <td>the;as;it;is;ludicrous;on;not;rape;br;program;...</td>\n",
       "      <td>1</td>\n",
       "    </tr>\n",
       "    <tr>\n",
       "      <th>24996</th>\n",
       "      <td>the;slaughter;susan;effects;is;following;like;...</td>\n",
       "      <td>0</td>\n",
       "    </tr>\n",
       "    <tr>\n",
       "      <th>24997</th>\n",
       "      <td>the;this;is;anything;tv;tormented;it;is;genera...</td>\n",
       "      <td>0</td>\n",
       "    </tr>\n",
       "    <tr>\n",
       "      <th>24998</th>\n",
       "      <td>the;bar;reverse;me;we;endearing;was;song;deep;...</td>\n",
       "      <td>1</td>\n",
       "    </tr>\n",
       "    <tr>\n",
       "      <th>24999</th>\n",
       "      <td>the;movie;is;thought;completely;br;of;i've;you...</td>\n",
       "      <td>0</td>\n",
       "    </tr>\n",
       "  </tbody>\n",
       "</table>\n",
       "<p>25000 rows × 2 columns</p>\n",
       "</div>"
      ],
      "text/plain": [
       "                                                   words  sentiment\n",
       "0      the;as;you;with;out;themselves;powerful;lets;l...          1\n",
       "1      the;thought;solid;thought;senator;do;making;to...          0\n",
       "2      the;as;there;in;at;by;br;of;sure;many;br;of;pr...          0\n",
       "3      the;of;and;and;they;halfway;of;identity;went;p...          1\n",
       "4      the;sure;themes;br;only;acting;i;i;was;favouri...          0\n",
       "...                                                  ...        ...\n",
       "24995  the;as;it;is;ludicrous;on;not;rape;br;program;...          1\n",
       "24996  the;slaughter;susan;effects;is;following;like;...          0\n",
       "24997  the;this;is;anything;tv;tormented;it;is;genera...          0\n",
       "24998  the;bar;reverse;me;we;endearing;was;song;deep;...          1\n",
       "24999  the;movie;is;thought;completely;br;of;i've;you...          0\n",
       "\n",
       "[25000 rows x 2 columns]"
      ]
     },
     "execution_count": 2,
     "metadata": {},
     "output_type": "execute_result"
    }
   ],
   "source": [
    "tr = pd.read_csv('IMDB_train.csv')\n",
    "tr"
   ]
  },
  {
   "attachments": {},
   "cell_type": "markdown",
   "metadata": {},
   "source": [
    "- 토큰 사전 만들기 & 변환"
   ]
  },
  {
   "cell_type": "code",
   "execution_count": 3,
   "metadata": {},
   "outputs": [],
   "source": [
    "x_train = tr['words'].apply(lambda x: x.split(';')).tolist()\n",
    "words = set()\n",
    "for i in x_train:\n",
    "    words.update(i)\n",
    "idx2word = {i+1:v for i, v in enumerate(words)}\n",
    "word2idx = {v:i for i, v in idx2word.items()}\n",
    "maxlen = max([len(x) for x in x_train])"
   ]
  },
  {
   "cell_type": "code",
   "execution_count": 4,
   "metadata": {},
   "outputs": [],
   "source": [
    "my_test = []\n",
    "for x in x_train:\n",
    "    my_test.append([word2idx.get(i, 0) for i in x])"
   ]
  },
  {
   "attachments": {},
   "cell_type": "markdown",
   "metadata": {},
   "source": [
    "- 원핫인코딩"
   ]
  },
  {
   "cell_type": "code",
   "execution_count": 5,
   "metadata": {},
   "outputs": [],
   "source": [
    "def onehot(seq, dim=10000):\n",
    "    results = np.zeros((len(seq), dim))\n",
    "    for i, sequence in enumerate(seq):\n",
    "        results[i, sequence] = 1\n",
    "    return results"
   ]
  },
  {
   "cell_type": "code",
   "execution_count": 6,
   "metadata": {},
   "outputs": [
    {
     "data": {
      "text/plain": [
       "(25000, 10000)"
      ]
     },
     "execution_count": 6,
     "metadata": {},
     "output_type": "execute_result"
    }
   ],
   "source": [
    "onehot(my_test).shape"
   ]
  },
  {
   "attachments": {},
   "cell_type": "markdown",
   "metadata": {},
   "source": [
    "- 데이터 전처리 함수 정의"
   ]
  },
  {
   "cell_type": "code",
   "execution_count": 7,
   "metadata": {},
   "outputs": [],
   "source": [
    "class IMDBdata(Dataset):\n",
    "    def __init__(self, file_path):\n",
    "        super().__init__()\n",
    "        df = pd.read_csv(file_path)\n",
    "        my_words = df['words'].apply(lambda x: x.split(';')).tolist()\n",
    "        my_x = []    \n",
    "        for w in my_words:\n",
    "            my_x.append([word2idx.get(i, 0) for i in w])\n",
    "        my_x = onehot(my_x)\n",
    "        self.x = my_x\n",
    "        self.y = df['sentiment'].values\n",
    "\n",
    "    def __len__(self):\n",
    "        return len(self.y)\n",
    "    \n",
    "    def __getitem__(self, idx):\n",
    "        x = torch.FloatTensor(self.x[idx])\n",
    "        y = torch.FloatTensor([self.y[idx]])\n",
    "        return x,y\n",
    "    "
   ]
  },
  {
   "attachments": {},
   "cell_type": "markdown",
   "metadata": {},
   "source": [
    "- Data Loader 정의"
   ]
  },
  {
   "cell_type": "code",
   "execution_count": 8,
   "metadata": {},
   "outputs": [],
   "source": [
    "bsize=128\n",
    "train_set = IMDBdata('./IMDB_train.csv')\n",
    "train_dataloader = DataLoader(train_set, batch_size=bsize)\n",
    "test_set = IMDBdata('./IMDB_test.csv')\n",
    "test_dataloader = DataLoader(test_set, batch_size=bsize)"
   ]
  },
  {
   "cell_type": "code",
   "execution_count": 9,
   "metadata": {},
   "outputs": [
    {
     "name": "stdout",
     "output_type": "stream",
     "text": [
      "Shape of X [N, C, H, W]: torch.Size([128, 10000])\n",
      "Shape of y: torch.Size([128, 1]) torch.float32\n"
     ]
    }
   ],
   "source": [
    "for x, y in test_dataloader:\n",
    "    print(f\"Shape of X [N, C, H, W]: {x.shape}\")\n",
    "    print(f\"Shape of y: {y.shape} {y.dtype}\")\n",
    "    break"
   ]
  },
  {
   "attachments": {},
   "cell_type": "markdown",
   "metadata": {},
   "source": [
    "## 2. 모델 정의"
   ]
  },
  {
   "cell_type": "code",
   "execution_count": 10,
   "metadata": {},
   "outputs": [],
   "source": [
    "class IMDBsentiment(nn.Module):\n",
    "    def __init__(self):\n",
    "        super().__init__()\n",
    "        self.linear_relu_stack = nn.Sequential(\n",
    "            nn.Linear(10000, 4),\n",
    "            nn.ReLU(),\n",
    "            nn.Linear(4, 4),\n",
    "            nn.ReLU(),\n",
    "            nn.Linear(4, 1),\n",
    "            nn.Sigmoid()\n",
    "            )\n",
    "\n",
    "    def forward(self, x):\n",
    "        logits = self.linear_relu_stack(x)\n",
    "        return logits"
   ]
  },
  {
   "cell_type": "code",
   "execution_count": 11,
   "metadata": {},
   "outputs": [
    {
     "name": "stdout",
     "output_type": "stream",
     "text": [
      "IMDBsentiment(\n",
      "  (linear_relu_stack): Sequential(\n",
      "    (0): Linear(in_features=10000, out_features=4, bias=True)\n",
      "    (1): ReLU()\n",
      "    (2): Linear(in_features=4, out_features=4, bias=True)\n",
      "    (3): ReLU()\n",
      "    (4): Linear(in_features=4, out_features=1, bias=True)\n",
      "    (5): Sigmoid()\n",
      "  )\n",
      ")\n"
     ]
    }
   ],
   "source": [
    "model = IMDBsentiment().to(device)\n",
    "print(model)"
   ]
  },
  {
   "attachments": {},
   "cell_type": "markdown",
   "metadata": {},
   "source": [
    "- [손실함수](https://pytorch.org/docs/stable/nn.html#loss-functions)와 [옵티마이저](https://pytorch.org/docs/stable/optim.html) 정의"
   ]
  },
  {
   "cell_type": "code",
   "execution_count": 12,
   "metadata": {},
   "outputs": [],
   "source": [
    "loss_fn = nn.BCELoss()\n",
    "optimizer = torch.optim.RMSprop(model.parameters(), lr=1e-3)"
   ]
  },
  {
   "attachments": {},
   "cell_type": "markdown",
   "metadata": {},
   "source": [
    "## 3. 모델 학습"
   ]
  },
  {
   "cell_type": "code",
   "execution_count": 13,
   "metadata": {},
   "outputs": [],
   "source": [
    "def train(dataloader, model, loss_fn, optimizer):\n",
    "    size = len(dataloader.dataset)\n",
    "    for batch, (x, y) in enumerate(dataloader):\n",
    "        x, y = x.to(device), y.to(device)\n",
    "        # 손실 점수 계산\n",
    "        pred = model(x)\n",
    "        loss = loss_fn(pred, y)\n",
    "        # 기울기 역전파\n",
    "        optimizer.zero_grad()\n",
    "        loss.backward()\n",
    "        optimizer.step()\n",
    "\n",
    "#        if batch % 100 == 0:\n",
    "#            loss, current = loss.item(), (batch + 1) * len(x)\n",
    "#            print(f\"loss: {loss:>7f}  [{current:>5d}/{size:>5d}]\")"
   ]
  },
  {
   "attachments": {},
   "cell_type": "markdown",
   "metadata": {},
   "source": [
    "- 성능 검증 함수 정의"
   ]
  },
  {
   "cell_type": "code",
   "execution_count": 14,
   "metadata": {},
   "outputs": [],
   "source": [
    "def test(dataloader, model, loss_fn, t='Test'):\n",
    "    size = len(dataloader.dataset)\n",
    "    num_batches = len(dataloader)\n",
    "    model.eval()\n",
    "    test_loss, correct = 0, 0\n",
    "    with torch.no_grad():\n",
    "        for X, y in dataloader:\n",
    "            X, y = X.to(device), y.to(device)\n",
    "            pred = model(X)\n",
    "            test_loss += loss_fn(pred, y).item()\n",
    "            correct += ((pred>0.5).to(torch.float) == y).type(torch.float).sum().item()\n",
    "    test_loss /= num_batches\n",
    "    correct /= size\n",
    "    print(t, f\"Error: \\n Accuracy: {(correct*100):>0.1f}%, Avg loss: {test_loss:>8f} \\n\")\n",
    "    return correct*100, test_loss"
   ]
  },
  {
   "attachments": {},
   "cell_type": "markdown",
   "metadata": {},
   "source": [
    "- 학습"
   ]
  },
  {
   "cell_type": "code",
   "execution_count": 15,
   "metadata": {},
   "outputs": [
    {
     "name": "stdout",
     "output_type": "stream",
     "text": [
      "Epoch 1\n",
      "-------------------------------\n"
     ]
    },
    {
     "name": "stdout",
     "output_type": "stream",
     "text": [
      "Train Error: \n",
      " Accuracy: 92.1%, Avg loss: 0.622917 \n",
      "\n",
      "Test Error: \n",
      " Accuracy: 87.7%, Avg loss: 0.630265 \n",
      "\n",
      "Epoch 2\n",
      "-------------------------------\n",
      "Train Error: \n",
      " Accuracy: 94.2%, Avg loss: 0.557499 \n",
      "\n",
      "Test Error: \n",
      " Accuracy: 88.1%, Avg loss: 0.576911 \n",
      "\n",
      "Epoch 3\n",
      "-------------------------------\n",
      "Train Error: \n",
      " Accuracy: 95.2%, Avg loss: 0.487172 \n",
      "\n",
      "Test Error: \n",
      " Accuracy: 88.0%, Avg loss: 0.523548 \n",
      "\n",
      "Epoch 4\n",
      "-------------------------------\n",
      "Train Error: \n",
      " Accuracy: 96.0%, Avg loss: 0.418866 \n",
      "\n",
      "Test Error: \n",
      " Accuracy: 87.9%, Avg loss: 0.473461 \n",
      "\n",
      "Epoch 5\n",
      "-------------------------------\n",
      "Train Error: \n",
      " Accuracy: 96.5%, Avg loss: 0.355521 \n",
      "\n",
      "Test Error: \n",
      " Accuracy: 88.0%, Avg loss: 0.429786 \n",
      "\n",
      "Epoch 6\n",
      "-------------------------------\n",
      "Train Error: \n",
      " Accuracy: 97.0%, Avg loss: 0.298098 \n",
      "\n",
      "Test Error: \n",
      " Accuracy: 87.7%, Avg loss: 0.395494 \n",
      "\n",
      "Epoch 7\n",
      "-------------------------------\n",
      "Train Error: \n",
      " Accuracy: 97.3%, Avg loss: 0.250694 \n",
      "\n",
      "Test Error: \n",
      " Accuracy: 87.5%, Avg loss: 0.372032 \n",
      "\n",
      "Epoch 8\n",
      "-------------------------------\n",
      "Train Error: \n",
      " Accuracy: 97.6%, Avg loss: 0.209123 \n",
      "\n",
      "Test Error: \n",
      " Accuracy: 87.3%, Avg loss: 0.359376 \n",
      "\n",
      "Epoch 9\n",
      "-------------------------------\n",
      "Train Error: \n",
      " Accuracy: 97.8%, Avg loss: 0.179881 \n",
      "\n",
      "Test Error: \n",
      " Accuracy: 87.3%, Avg loss: 0.352740 \n",
      "\n",
      "Epoch 10\n",
      "-------------------------------\n",
      "Train Error: \n",
      " Accuracy: 98.0%, Avg loss: 0.156222 \n",
      "\n",
      "Test Error: \n",
      " Accuracy: 86.9%, Avg loss: 0.357953 \n",
      "\n",
      "Epoch 11\n",
      "-------------------------------\n",
      "Train Error: \n",
      " Accuracy: 98.0%, Avg loss: 0.142442 \n",
      "\n",
      "Test Error: \n",
      " Accuracy: 87.1%, Avg loss: 0.355918 \n",
      "\n",
      "Epoch 12\n",
      "-------------------------------\n",
      "Train Error: \n",
      " Accuracy: 98.1%, Avg loss: 0.126161 \n",
      "\n",
      "Test Error: \n",
      " Accuracy: 86.8%, Avg loss: 0.375040 \n",
      "\n",
      "Epoch 13\n",
      "-------------------------------\n",
      "Train Error: \n",
      " Accuracy: 98.1%, Avg loss: 0.116884 \n",
      "\n",
      "Test Error: \n",
      " Accuracy: 86.7%, Avg loss: 0.380608 \n",
      "\n",
      "Epoch 14\n",
      "-------------------------------\n",
      "Train Error: \n",
      " Accuracy: 98.2%, Avg loss: 0.109986 \n",
      "\n",
      "Test Error: \n",
      " Accuracy: 86.7%, Avg loss: 0.385948 \n",
      "\n",
      "Epoch 15\n",
      "-------------------------------\n",
      "Train Error: \n",
      " Accuracy: 98.2%, Avg loss: 0.103977 \n",
      "\n",
      "Test Error: \n",
      " Accuracy: 86.7%, Avg loss: 0.392865 \n",
      "\n",
      "Epoch 16\n",
      "-------------------------------\n",
      "Train Error: \n",
      " Accuracy: 98.2%, Avg loss: 0.099195 \n",
      "\n",
      "Test Error: \n",
      " Accuracy: 86.7%, Avg loss: 0.401637 \n",
      "\n",
      "Epoch 17\n",
      "-------------------------------\n",
      "Train Error: \n",
      " Accuracy: 98.2%, Avg loss: 0.096015 \n",
      "\n",
      "Test Error: \n",
      " Accuracy: 86.6%, Avg loss: 0.407409 \n",
      "\n",
      "Epoch 18\n",
      "-------------------------------\n",
      "Train Error: \n",
      " Accuracy: 98.2%, Avg loss: 0.093257 \n",
      "\n",
      "Test Error: \n",
      " Accuracy: 86.6%, Avg loss: 0.422883 \n",
      "\n",
      "Epoch 19\n",
      "-------------------------------\n",
      "Train Error: \n",
      " Accuracy: 98.2%, Avg loss: 0.091411 \n",
      "\n",
      "Test Error: \n",
      " Accuracy: 86.6%, Avg loss: 0.426838 \n",
      "\n",
      "Epoch 20\n",
      "-------------------------------\n",
      "Train Error: \n",
      " Accuracy: 98.2%, Avg loss: 0.090137 \n",
      "\n",
      "Test Error: \n",
      " Accuracy: 86.5%, Avg loss: 0.431729 \n",
      "\n",
      "Done!\n"
     ]
    }
   ],
   "source": [
    "epochs = 20\n",
    "train_history = []\n",
    "test_history = []\n",
    "for t in range(epochs):\n",
    "    print(f\"Epoch {t+1}\\n-------------------------------\")\n",
    "    train(train_dataloader, model, loss_fn, optimizer)\n",
    "    train_history.append(test(train_dataloader, model, loss_fn,'Train'))\n",
    "    test_history.append(test(test_dataloader, model, loss_fn,'Test'))\n",
    "print(\"Done!\")"
   ]
  },
  {
   "cell_type": "code",
   "execution_count": 16,
   "metadata": {},
   "outputs": [
    {
     "data": {
      "image/png": "[encoded data removed]",
      "text/plain": [
       "<Figure size 640x480 with 1 Axes>"
      ]
     },
     "metadata": {},
     "output_type": "display_data"
    }
   ],
   "source": [
    "tr_loss = [i[1] for i in train_history]\n",
    "te_loss = [i[1] for i in test_history]\n",
    "epochs= range(1, len(tr_loss) + 1)\n",
    "plt.plot(epochs, tr_loss, 'blue', label='Training loss')\n",
    "plt.plot(epochs, te_loss, 'red', label='Test loss')\n",
    "plt.title('Training and Test Loss')\n",
    "plt.xlabel('Epochs')\n",
    "plt.ylabel('Loss')\n",
    "plt.legend();"
   ]
  },
  {
   "cell_type": "code",
   "execution_count": 17,
   "metadata": {},
   "outputs": [
    {
     "data": {
      "image/png": "[encoded data removed]",
      "text/plain": [
       "<Figure size 640x480 with 1 Axes>"
      ]
     },
     "metadata": {},
     "output_type": "display_data"
    }
   ],
   "source": [
    "tr_acc = [i[0] for i in train_history]\n",
    "te_acc = [i[0] for i in test_history]\n",
    "epochs= range(1, len(tr_acc) + 1)\n",
    "plt.plot(epochs, tr_acc, 'blue', label='Training Accuracy')\n",
    "plt.plot(epochs, te_acc, 'red', label='Test Accuracy')\n",
    "plt.title('Training and Test Accuracy')\n",
    "plt.xlabel('Epochs')\n",
    "plt.ylabel('ACC')\n",
    "plt.legend();"
   ]
  },
  {
   "attachments": {},
   "cell_type": "markdown",
   "metadata": {},
   "source": [
    "## 4. 과대적합을 줄이기 위해 Epoch 조정"
   ]
  },
  {
   "cell_type": "code",
   "execution_count": 18,
   "metadata": {},
   "outputs": [
    {
     "name": "stdout",
     "output_type": "stream",
     "text": [
      "Epoch 1\n",
      "-------------------------------\n",
      "Train Error: \n",
      " Accuracy: 91.0%, Avg loss: 0.386614 \n",
      "\n",
      "Test Error: \n",
      " Accuracy: 87.9%, Avg loss: 0.416280 \n",
      "\n",
      "Epoch 2\n",
      "-------------------------------\n",
      "Train Error: \n",
      " Accuracy: 93.5%, Avg loss: 0.211091 \n",
      "\n",
      "Test Error: \n",
      " Accuracy: 89.0%, Avg loss: 0.287535 \n",
      "\n",
      "Epoch 3\n",
      "-------------------------------\n",
      "Train Error: \n",
      " Accuracy: 94.7%, Avg loss: 0.164696 \n",
      "\n",
      "Test Error: \n",
      " Accuracy: 88.9%, Avg loss: 0.281725 \n",
      "\n",
      "Epoch 4\n",
      "-------------------------------\n",
      "Train Error: \n",
      " Accuracy: 95.6%, Avg loss: 0.138207 \n",
      "\n",
      "Test Error: \n",
      " Accuracy: 88.4%, Avg loss: 0.295530 \n",
      "\n",
      "Done!\n"
     ]
    }
   ],
   "source": [
    "class IMDBsentiment(nn.Module):\n",
    "    def __init__(self):\n",
    "        super().__init__()\n",
    "        self.linear_relu_stack = nn.Sequential(\n",
    "            nn.Linear(10000, 4),\n",
    "            nn.ReLU(),\n",
    "            nn.Linear(4, 4),\n",
    "            nn.ReLU(),\n",
    "            nn.Linear(4, 1),\n",
    "            nn.Sigmoid()\n",
    "            )\n",
    "\n",
    "    def forward(self, x):\n",
    "        logits = self.linear_relu_stack(x)\n",
    "        return logits\n",
    "\n",
    "model = IMDBsentiment().to(device)\n",
    "loss_fn = nn.BCELoss()\n",
    "optimizer = torch.optim.RMSprop(model.parameters(), lr=1e-3)\n",
    "epochs = 4\n",
    "train_history = []\n",
    "test_history = []\n",
    "for t in range(epochs):\n",
    "    print(f\"Epoch {t+1}\\n-------------------------------\")\n",
    "    train(train_dataloader, model, loss_fn, optimizer)\n",
    "    train_history.append(test(train_dataloader, model, loss_fn,'Train'))\n",
    "    test_history.append(test(test_dataloader, model, loss_fn,'Test'))\n",
    "print(\"Done!\")"
   ]
  }
 ],
 "metadata": {
  "kernelspec": {
   "display_name": "mytorch",
   "language": "python",
   "name": "python3"
  },
  "language_info": {
   "codemirror_mode": {
    "name": "ipython",
    "version": 3
   },
   "file_extension": ".py",
   "mimetype": "text/x-python",
   "name": "python",
   "nbconvert_exporter": "python",
   "pygments_lexer": "ipython3",
   "version": "3.11.3"
  },
  "orig_nbformat": 4
 },
 "nbformat": 4,
 "nbformat_minor": 2
}
